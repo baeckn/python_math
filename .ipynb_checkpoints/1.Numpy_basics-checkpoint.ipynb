{
 "cells": [
  {
   "cell_type": "code",
   "execution_count": 1,
   "id": "88c0d334-68d7-4782-84a2-41d1ea9dcc32",
   "metadata": {},
   "outputs": [],
   "source": [
    "import numpy as np\n",
    "import matplotlib.pylab as plt\n",
    "import pandas as pd\n",
    "from sklearn.datasets import load_iris"
   ]
  },
  {
   "cell_type": "markdown",
   "id": "a20a306e-bdab-4db9-aada-07e71d4ea6d0",
   "metadata": {},
   "source": [
    "# 1. Basic Loading and Creations"
   ]
  },
  {
   "cell_type": "code",
   "execution_count": 2,
   "id": "995e0cfa-e8ae-4589-b7bd-4d213ddecc96",
   "metadata": {},
   "outputs": [
    {
     "data": {
      "text/html": [
       "<div>\n",
       "<style scoped>\n",
       "    .dataframe tbody tr th:only-of-type {\n",
       "        vertical-align: middle;\n",
       "    }\n",
       "\n",
       "    .dataframe tbody tr th {\n",
       "        vertical-align: top;\n",
       "    }\n",
       "\n",
       "    .dataframe thead th {\n",
       "        text-align: right;\n",
       "    }\n",
       "</style>\n",
       "<table border=\"1\" class=\"dataframe\">\n",
       "  <thead>\n",
       "    <tr style=\"text-align: right;\">\n",
       "      <th></th>\n",
       "      <th>sepal length (cm)</th>\n",
       "      <th>sepal width (cm)</th>\n",
       "      <th>petal length (cm)</th>\n",
       "      <th>petal width (cm)</th>\n",
       "    </tr>\n",
       "  </thead>\n",
       "  <tbody>\n",
       "    <tr>\n",
       "      <th>0</th>\n",
       "      <td>5.1</td>\n",
       "      <td>3.5</td>\n",
       "      <td>1.4</td>\n",
       "      <td>0.2</td>\n",
       "    </tr>\n",
       "    <tr>\n",
       "      <th>1</th>\n",
       "      <td>4.9</td>\n",
       "      <td>3.0</td>\n",
       "      <td>1.4</td>\n",
       "      <td>0.2</td>\n",
       "    </tr>\n",
       "    <tr>\n",
       "      <th>2</th>\n",
       "      <td>4.7</td>\n",
       "      <td>3.2</td>\n",
       "      <td>1.3</td>\n",
       "      <td>0.2</td>\n",
       "    </tr>\n",
       "    <tr>\n",
       "      <th>3</th>\n",
       "      <td>4.6</td>\n",
       "      <td>3.1</td>\n",
       "      <td>1.5</td>\n",
       "      <td>0.2</td>\n",
       "    </tr>\n",
       "    <tr>\n",
       "      <th>4</th>\n",
       "      <td>5.0</td>\n",
       "      <td>3.6</td>\n",
       "      <td>1.4</td>\n",
       "      <td>0.2</td>\n",
       "    </tr>\n",
       "  </tbody>\n",
       "</table>\n",
       "</div>"
      ],
      "text/plain": [
       "   sepal length (cm)  sepal width (cm)  petal length (cm)  petal width (cm)\n",
       "0                5.1               3.5                1.4               0.2\n",
       "1                4.9               3.0                1.4               0.2\n",
       "2                4.7               3.2                1.3               0.2\n",
       "3                4.6               3.1                1.5               0.2\n",
       "4                5.0               3.6                1.4               0.2"
      ]
     },
     "execution_count": 2,
     "metadata": {},
     "output_type": "execute_result"
    }
   ],
   "source": [
    "#load iris data\n",
    "iris = load_iris()\n",
    "\n",
    "#peek into dataframe\n",
    "df = pd.DataFrame(iris.data, columns = iris.feature_names)\n",
    "df.head()"
   ]
  },
  {
   "cell_type": "markdown",
   "id": "b804c5db-e0dd-4269-8a1c-d344a08c5234",
   "metadata": {},
   "source": [
    "### 1.1. Vectors"
   ]
  },
  {
   "cell_type": "code",
   "execution_count": 7,
   "id": "6d23e6a4-057a-4adb-9aca-7e901fae4cde",
   "metadata": {},
   "outputs": [
    {
     "name": "stdout",
     "output_type": "stream",
     "text": [
      "[5.1 3.5 1.4 0.2]\n",
      "[4.9 3.  1.4 0.2]\n"
     ]
    }
   ],
   "source": [
    "#first record\n",
    "print(iris.data[0, :]) #same as iris.data[0]\n",
    "#second record\n",
    "print(iris.data[1, :]) #same as iris.data[1]"
   ]
  },
  {
   "cell_type": "code",
   "execution_count": 10,
   "id": "97d77368-3cf8-4c77-93b8-3ec76e40108e",
   "metadata": {},
   "outputs": [
    {
     "name": "stdout",
     "output_type": "stream",
     "text": [
      "[[5.1]\n",
      " [3.5]\n",
      " [1.4]\n",
      " [0.2]]\n",
      "======\n",
      "[[5.1]\n",
      " [3.5]\n",
      " [1.4]\n",
      " [0.2]]\n"
     ]
    }
   ],
   "source": [
    "#represent first two records as numpy vectors\n",
    "x1_v1 = np.array([[5.1], [3.5], [1.4], [0.2]])\n",
    "x2_v1 = np.array([[4.9], [3.0], [1.4], [0.2]])\n",
    "\n",
    "#using reshape function\n",
    "x1_v2 = np.reshape(iris.data[0], (4, 1))\n",
    "x2_v2 = np.reshape(iris.data[1], (4, 1))\n",
    "\n",
    "print(x1_v1)\n",
    "print(\"======\")\n",
    "print(x1_v2)"
   ]
  },
  {
   "cell_type": "markdown",
   "id": "2e0768aa-7517-48d9-9f9f-0d0495eb38b8",
   "metadata": {},
   "source": [
    "### 1.2 Matrix"
   ]
  },
  {
   "cell_type": "code",
   "execution_count": 19,
   "id": "39119d40-c71b-453b-9c1a-6bc33594f60f",
   "metadata": {},
   "outputs": [
    {
     "name": "stdout",
     "output_type": "stream",
     "text": [
      "shape: (2, 4)\n",
      "ndim: 2\n",
      "[[5.1 3.5 1.4 0.2]\n",
      " [4.9 3.  1.4 0.2]]\n"
     ]
    }
   ],
   "source": [
    "#create matrix using the first two rows of iris dataset\n",
    "X = np.array([[5.1, 3.5, 1.4, 0.2], [4.9, 3.0, 1.4, 0.2]])\n",
    "print(\"shape: \" + str(X.shape))\n",
    "print(\"ndim: \" + str(X.ndim))\n",
    "print(X)"
   ]
  },
  {
   "cell_type": "markdown",
   "id": "81db681e-546f-4a2e-87cb-920e1848584a",
   "metadata": {},
   "source": [
    "# 2. Matrix Types\n",
    "\n",
    "* Vectors\n",
    "    * Zero vectors\n",
    "    * One vectors\n",
    "* Matrix\n",
    "    * Transpose matrix\n",
    "    * Diagonoal matrix\n",
    "    * Identity matrix\n",
    "    * Symmetric matrix"
   ]
  },
  {
   "cell_type": "markdown",
   "id": "9763c288-9d98-4b74-985a-cec8fff79029",
   "metadata": {},
   "source": [
    "### 2.1 Zero and One Vectors"
   ]
  },
  {
   "cell_type": "code",
   "execution_count": 38,
   "id": "73d0f1dd-c8c9-4141-9995-8b95541d4827",
   "metadata": {},
   "outputs": [
    {
     "name": "stdout",
     "output_type": "stream",
     "text": [
      "zeros : \n",
      "[[0.]\n",
      " [0.]\n",
      " [0.]]\n",
      "====\n",
      "ones : \n",
      "[[1.]\n",
      " [1.]\n",
      " [1.]]\n"
     ]
    }
   ],
   "source": [
    "#zero vector\n",
    "zeros = np.zeros((3, 1))\n",
    "ones = np.ones((3, 1))\n",
    "\n",
    "print(\"zeros : \")\n",
    "print(zeros)\n",
    "print(\"====\")\n",
    "print(\"ones : \")\n",
    "print(ones)"
   ]
  },
  {
   "cell_type": "markdown",
   "id": "57009f68-97b0-4d17-a9b3-754dba8d25dc",
   "metadata": {},
   "source": [
    "### 2.2 Transpose Matrix"
   ]
  },
  {
   "cell_type": "code",
   "execution_count": 27,
   "id": "69028f86-d9ec-4477-8c4b-d861c10dd1f1",
   "metadata": {},
   "outputs": [
    {
     "name": "stdout",
     "output_type": "stream",
     "text": [
      "shape: (3, 2)\n",
      "ndim: 2\n",
      "[[11 21]\n",
      " [12 22]\n",
      " [13 23]]\n"
     ]
    }
   ],
   "source": [
    "#create matrix\n",
    "A = np.array([[11, 21], [12, 22], [13, 23]])\n",
    "print(\"shape: \" + str(A.shape))\n",
    "print(\"ndim: \" + str(A.ndim))\n",
    "print(A)"
   ]
  },
  {
   "cell_type": "code",
   "execution_count": 29,
   "id": "a0f21827-1261-4061-ba6a-b45032aff20d",
   "metadata": {},
   "outputs": [
    {
     "name": "stdout",
     "output_type": "stream",
     "text": [
      "shape: (2, 3)\n",
      "ndim: 2\n",
      "[[11 12 13]\n",
      " [21 22 23]]\n"
     ]
    }
   ],
   "source": [
    "#transpose of matrix A\n",
    "print(\"shape: \" + str(A.T.shape))\n",
    "print(\"ndim: \" + str(A.T.ndim))\n",
    "print(A.T)"
   ]
  },
  {
   "cell_type": "markdown",
   "id": "3517c5c3-196f-4130-b80b-b442897dedf6",
   "metadata": {},
   "source": [
    "* Practice Problems\n",
    "    * Find transpose of matrix X from iris dataset (matrix consisting of the first two rows of the dataset)\n",
    "    * Find transpose of transpose of matrix X\n",
    "        * We get the original matrix X"
   ]
  },
  {
   "cell_type": "code",
   "execution_count": 34,
   "id": "d58735fb-87d4-42d1-b258-c9e2c5f77816",
   "metadata": {},
   "outputs": [
    {
     "name": "stdout",
     "output_type": "stream",
     "text": [
      "transpose X : \n",
      "[[5.1 4.9]\n",
      " [3.5 3. ]\n",
      " [1.4 1.4]\n",
      " [0.2 0.2]]\n"
     ]
    }
   ],
   "source": [
    "#find transpose\n",
    "print(\"transpose X : \")\n",
    "print(X.T)"
   ]
  },
  {
   "cell_type": "code",
   "execution_count": 35,
   "id": "a32448bc-07df-4caa-b724-746064e1a6db",
   "metadata": {},
   "outputs": [
    {
     "name": "stdout",
     "output_type": "stream",
     "text": [
      "transpose of transpose X : \n",
      "[[5.1 3.5 1.4 0.2]\n",
      " [4.9 3.  1.4 0.2]]\n"
     ]
    }
   ],
   "source": [
    "#we get the original matrix X\n",
    "print(\"transpose of transpose X : \")\n",
    "print(X.T.T)"
   ]
  },
  {
   "cell_type": "markdown",
   "id": "82eeb3ab-39d5-4a3d-a44c-f1533a1507c9",
   "metadata": {},
   "source": [
    "### 2.3 Diagonal Matrix\n",
    "\n",
    "* Matrix where off-diagonal entries are all zero"
   ]
  },
  {
   "cell_type": "code",
   "execution_count": 41,
   "id": "09ed7f74-1472-4c71-8537-db52dcfa4929",
   "metadata": {},
   "outputs": [
    {
     "data": {
      "text/plain": [
       "array([[1, 0, 0],\n",
       "       [0, 2, 0],\n",
       "       [0, 0, 3]])"
      ]
     },
     "execution_count": 41,
     "metadata": {},
     "output_type": "execute_result"
    }
   ],
   "source": [
    "diag = np.diag([1, 2, 3])\n",
    "diag"
   ]
  },
  {
   "cell_type": "markdown",
   "id": "40491583-becc-4b23-8a3b-d8a3fe9b2fc1",
   "metadata": {},
   "source": [
    "### 2.4 Identity Matrix\n",
    "\n",
    "* Two functions\n",
    "    * **identity**\n",
    "    * **eye**"
   ]
  },
  {
   "cell_type": "code",
   "execution_count": 42,
   "id": "cccbf521-ee13-45c7-860c-5be18b0dbef5",
   "metadata": {},
   "outputs": [
    {
     "data": {
      "text/plain": [
       "array([[1., 0., 0.],\n",
       "       [0., 1., 0.],\n",
       "       [0., 0., 1.]])"
      ]
     },
     "execution_count": 42,
     "metadata": {},
     "output_type": "execute_result"
    }
   ],
   "source": [
    "np.identity(3)"
   ]
  },
  {
   "cell_type": "code",
   "execution_count": 45,
   "id": "aea7e06f-235a-4337-940d-15683cba205c",
   "metadata": {},
   "outputs": [
    {
     "data": {
      "text/plain": [
       "array([[1., 0., 0., 0.],\n",
       "       [0., 1., 0., 0.],\n",
       "       [0., 0., 1., 0.],\n",
       "       [0., 0., 0., 1.]])"
      ]
     },
     "execution_count": 45,
     "metadata": {},
     "output_type": "execute_result"
    }
   ],
   "source": [
    "np.eye(4)"
   ]
  },
  {
   "cell_type": "markdown",
   "id": "2bb7c367-37f9-4759-9f9f-aed0fb87b298",
   "metadata": {},
   "source": [
    "# 3. Operations Of Vectors\n",
    "\n",
    "* Dot products of vectors and matrices\n",
    "\n",
    "$\\vec{x} = \\begin{bmatrix} 1 \\\\ 2 \\\\ 3 \\end{bmatrix}$\n",
    "\n",
    "$\\vec{y} = \\begin{bmatrix} 4 \\\\ 5 \\\\ 6 \\end{bmatrix}$"
   ]
  },
  {
   "cell_type": "markdown",
   "id": "10cf1e63-8aff-42c1-b28f-5ba8ba7c2786",
   "metadata": {},
   "source": [
    "### 3.1 Vectors as 2-D Ndarrays"
   ]
  },
  {
   "cell_type": "code",
   "execution_count": 52,
   "id": "751029a1-50c3-4443-b24f-5a27b59a6d67",
   "metadata": {},
   "outputs": [],
   "source": [
    "#create ndarrays\n",
    "x = np.array([[1], [2], [3]])\n",
    "y = np.array([[4], [5], [6]])"
   ]
  },
  {
   "cell_type": "code",
   "execution_count": 51,
   "id": "6ac2f65a-2e9d-422d-afc4-1ddc24f1565a",
   "metadata": {},
   "outputs": [
    {
     "data": {
      "text/plain": [
       "array([[32]])"
      ]
     },
     "execution_count": 51,
     "metadata": {},
     "output_type": "execute_result"
    }
   ],
   "source": [
    "np.dot(x.T, y)"
   ]
  },
  {
   "cell_type": "code",
   "execution_count": 53,
   "id": "a91a000c-fb20-4ee6-84cf-52fef79e1fa9",
   "metadata": {},
   "outputs": [
    {
     "data": {
      "text/plain": [
       "array([[32]])"
      ]
     },
     "execution_count": 53,
     "metadata": {},
     "output_type": "execute_result"
    }
   ],
   "source": [
    "#same as above\n",
    "x.T @ y"
   ]
  },
  {
   "cell_type": "markdown",
   "id": "632772a3-c934-42de-b7b5-ae3d54400e45",
   "metadata": {},
   "source": [
    "### 3.2 Vectors as 1-D Ndarrays\n",
    "\n",
    "* Can be written as 1-D Ndarrays"
   ]
  },
  {
   "cell_type": "code",
   "execution_count": 54,
   "id": "e5c84626-7c08-4471-bfac-9d78a7fb231b",
   "metadata": {},
   "outputs": [
    {
     "data": {
      "text/plain": [
       "32"
      ]
     },
     "execution_count": 54,
     "metadata": {},
     "output_type": "execute_result"
    }
   ],
   "source": [
    "x = np.array([1, 2, 3])\n",
    "y = np.array([4, 5, 6])\n",
    "\n",
    "np.dot(x.T, y)"
   ]
  },
  {
   "cell_type": "code",
   "execution_count": 55,
   "id": "7388e229-32ad-4e56-a48e-d5210fdc97e5",
   "metadata": {},
   "outputs": [
    {
     "data": {
      "text/plain": [
       "32"
      ]
     },
     "execution_count": 55,
     "metadata": {},
     "output_type": "execute_result"
    }
   ],
   "source": [
    "#same as below\n",
    "np.dot(x, y)"
   ]
  },
  {
   "cell_type": "markdown",
   "id": "1286ccce-b190-4776-b1b5-f4c34e23ff46",
   "metadata": {},
   "source": [
    "### 3.3 Real World Example Using Inner(Dot) Product\n",
    "\n",
    "* When and why do we use vector multiplications?\n",
    "* Linear algebra is a tool that we use to handle data\n",
    "* Example 1: Weighted Sum (가중합)\n",
    "    * Say you want to purchase stocks of companies A, B, and C\n",
    "        * Each stock costs 100, 80, and 50 dollars, respectively\n",
    "        * We want to purchase each companies stocks 3, 4, and 5 units, respectively\n",
    "        * You can use linear algebra, dot product, to solve how much money we need\n",
    "* Example 2: Weighted Average (가중평균)\n",
    "    * Finding a final grade that consists of two exams\n",
    "        * Received 100 on the first, and 60 on the second exams\n",
    "        * Each exam is worth 25% and 75%, respectively\n",
    "* Example 3: Linear Regression\n",
    "    * $\\hat{y} = w_1x_1 + \\cdot \\cdot \\cdot + w_nx_n$\n",
    "    * $\\hat{y} = w^Tx$\n",
    "* Example 4: Sum of Squares (제곱합)"
   ]
  },
  {
   "cell_type": "markdown",
   "id": "6701f4b1-4130-411d-803d-8eeefaaf4fae",
   "metadata": {},
   "source": [
    "#### 3.3.1 Solution"
   ]
  },
  {
   "cell_type": "code",
   "execution_count": 59,
   "id": "892ddc0d-1614-4d3d-9505-84a18174d131",
   "metadata": {},
   "outputs": [
    {
     "name": "stdout",
     "output_type": "stream",
     "text": [
      "shape: (3, 1)\n",
      "ndim: 2\n",
      "[[100]\n",
      " [ 80]\n",
      " [ 50]]\n",
      "===========\n",
      "shape: (3, 1)\n",
      "ndim: 2\n",
      "[[3]\n",
      " [4]\n",
      " [5]]\n"
     ]
    }
   ],
   "source": [
    "#create ndarrays\n",
    "price = np.array([[100], [80], [50]])\n",
    "quantity = np.array([[3], [4], [5]])\n",
    "\n",
    "print(\"shape: \" + str(price.shape))\n",
    "print(\"ndim: \" + str(price.ndim))\n",
    "print(price)\n",
    "\n",
    "print(\"===========\")\n",
    "\n",
    "print(\"shape: \" + str(quantity.shape))\n",
    "print(\"ndim: \" + str(quantity.ndim))\n",
    "print(quantity)"
   ]
  },
  {
   "cell_type": "code",
   "execution_count": 60,
   "id": "f7c4a1a9-b7bb-4c74-84f1-91e57b4c5e21",
   "metadata": {},
   "outputs": [
    {
     "name": "stdout",
     "output_type": "stream",
     "text": [
      "[[870]]\n",
      "[[870]]\n"
     ]
    }
   ],
   "source": [
    "print(np.dot(price.T, quantity))\n",
    "print(np.dot(quantity.T, price))"
   ]
  },
  {
   "cell_type": "markdown",
   "id": "5d2dc458-94cc-439a-aee4-18aa3f0199f7",
   "metadata": {},
   "source": [
    "#### 3.3.2 Solution"
   ]
  },
  {
   "cell_type": "code",
   "execution_count": 61,
   "id": "a54d46cc-a9ec-414c-a767-c5f6005d52a9",
   "metadata": {},
   "outputs": [],
   "source": [
    "scores = np.array([[100], [60]])\n",
    "weight = np.array([[0.25], [0.75]])"
   ]
  },
  {
   "cell_type": "code",
   "execution_count": 63,
   "id": "03992351-9da9-4a66-aad5-795f6d3ccb26",
   "metadata": {},
   "outputs": [
    {
     "name": "stdout",
     "output_type": "stream",
     "text": [
      "[[70.]]\n",
      "[[70.]]\n"
     ]
    }
   ],
   "source": [
    "print(np.dot(scores.T, weight))\n",
    "print(np.dot(weight.T, scores))"
   ]
  },
  {
   "cell_type": "markdown",
   "id": "34fdf408-51ef-4b47-972f-2712c42590fc",
   "metadata": {},
   "source": [
    "# 4. Operations of Matrices"
   ]
  },
  {
   "cell_type": "code",
   "execution_count": 66,
   "id": "2956d168-d9a7-48e2-b4a2-ef3172c5d4ed",
   "metadata": {},
   "outputs": [
    {
     "name": "stdout",
     "output_type": "stream",
     "text": [
      "Shape of A: (2, 3)\n",
      "Shape of B: (3, 2)\n"
     ]
    },
    {
     "data": {
      "text/plain": [
       "array([[22, 28],\n",
       "       [49, 64]])"
      ]
     },
     "execution_count": 66,
     "metadata": {},
     "output_type": "execute_result"
    }
   ],
   "source": [
    "A = np.array([[1, 2, 3], [4, 5, 6]])\n",
    "B = np.array([[1, 2], [3, 4], [5, 6]])\n",
    "\n",
    "print(\"Shape of A: \" + str(A.shape))\n",
    "print(\"Shape of B: \" + str(B.shape))\n",
    "\n",
    "np.dot(A, B)"
   ]
  },
  {
   "cell_type": "code",
   "execution_count": 68,
   "id": "40b23554-3053-48ea-b8a5-6ad105b61b0f",
   "metadata": {},
   "outputs": [],
   "source": [
    "C = np.array([[1, 2, 3]])\n",
    "D = np.array([[4, 7], [5, 8], [6, 9]])"
   ]
  },
  {
   "cell_type": "code",
   "execution_count": 71,
   "id": "35009123-e230-458f-947a-396ebcbd7fed",
   "metadata": {},
   "outputs": [
    {
     "data": {
      "text/plain": [
       "array([[32, 50]])"
      ]
     },
     "execution_count": 71,
     "metadata": {},
     "output_type": "execute_result"
    }
   ],
   "source": [
    "C.dot(D)"
   ]
  },
  {
   "cell_type": "markdown",
   "id": "6093eb4c-ba66-4b91-9546-3d221963037b",
   "metadata": {},
   "source": [
    "# 5. Characteristics of Matrices\n",
    "\n",
    "* Signs (positive, negative) of Matrices\n",
    "    * Positive definite\n",
    "    * Positive semi-definite\n",
    "* Size\n",
    "    * Norm\n",
    "    * Trace\n",
    "        * Only used for square matrix (정방행렬)"
   ]
  },
  {
   "cell_type": "markdown",
   "id": "f901d695-6ece-43ee-8dc5-10215ce8dbd4",
   "metadata": {},
   "source": [
    "### 5.1 Signs of Matrices\n",
    "* Determining signs of matrix A. x refers to any **non-zero** vectors\n",
    "    * Positive definite: when $x^TAx > 0$\n",
    "    * Positive semi-definite: when $x^TAx >= 0$"
   ]
  },
  {
   "cell_type": "markdown",
   "id": "43d51c3f-2631-4638-b693-7d0bec474401",
   "metadata": {},
   "source": [
    "### 5.2 Norm\n",
    "\n",
    "* $\\lVert A\\rVert_p = (\\sum_{i=1}^{N}\\sum_{j=1}^{M} \\lvert a_{ij}\\rvert ^ p)^{1/p}$\n",
    "* Adding all elements of matrix A powered by $p$ and then powering the reuslt by $1/p$\n",
    "* Usually, we use $p=2$"
   ]
  },
  {
   "cell_type": "code",
   "execution_count": 81,
   "id": "fb0ba968-282a-4043-bbaa-5e0fd37cc823",
   "metadata": {},
   "outputs": [
    {
     "data": {
      "text/plain": [
       "array([[-4, -3, -2],\n",
       "       [-1,  0,  1],\n",
       "       [ 2,  3,  4]])"
      ]
     },
     "execution_count": 81,
     "metadata": {},
     "output_type": "execute_result"
    }
   ],
   "source": [
    "A = np.array([[-4, -3, -2], [-1, 0, 1], [2, 3, 4]])\n",
    "A"
   ]
  },
  {
   "cell_type": "code",
   "execution_count": 83,
   "id": "ac9298f2-49a1-4136-ae0b-f2800792e3e1",
   "metadata": {},
   "outputs": [
    {
     "data": {
      "text/plain": [
       "7.745966692414834"
      ]
     },
     "execution_count": 83,
     "metadata": {},
     "output_type": "execute_result"
    }
   ],
   "source": [
    "np.linalg.norm(A)"
   ]
  },
  {
   "cell_type": "code",
   "execution_count": 92,
   "id": "d10638df-e219-4eec-854a-71f69ced4370",
   "metadata": {},
   "outputs": [
    {
     "data": {
      "text/plain": [
       "7.745966692414834"
      ]
     },
     "execution_count": 92,
     "metadata": {},
     "output_type": "execute_result"
    }
   ],
   "source": [
    "np.sum(A**2) ** 0.5"
   ]
  },
  {
   "cell_type": "code",
   "execution_count": 94,
   "id": "967e3e2b-cb3c-441e-ad1b-bfdf0ac48961",
   "metadata": {},
   "outputs": [
    {
     "data": {
      "text/plain": [
       "array([[-4, -3, -2],\n",
       "       [-1,  0,  1],\n",
       "       [ 2,  3,  4],\n",
       "       [ 0,  1, -3]])"
      ]
     },
     "execution_count": 94,
     "metadata": {},
     "output_type": "execute_result"
    }
   ],
   "source": [
    "B = np.array([[-4, -3, -2], [-1, 0, 1], [2, 3, 4], [0, 1, -3]])\n",
    "B"
   ]
  },
  {
   "cell_type": "code",
   "execution_count": 96,
   "id": "fb60ce5c-3c5a-4218-9685-6e07278c7b18",
   "metadata": {},
   "outputs": [
    {
     "data": {
      "text/plain": [
       "array([[ 2, -1,  0],\n",
       "       [-1,  2, -1],\n",
       "       [ 0, -1,  2]])"
      ]
     },
     "execution_count": 96,
     "metadata": {},
     "output_type": "execute_result"
    }
   ],
   "source": [
    "c = np.array([[2, -1, 0], [-1, 2, -1], [0, -1, 2]])\n",
    "c"
   ]
  },
  {
   "cell_type": "markdown",
   "id": "4191b325-7df6-4dc9-a969-72b76f4806de",
   "metadata": {},
   "source": [
    "# 6. Inverse Matrix"
   ]
  },
  {
   "cell_type": "markdown",
   "id": "dea7e4c1-b3f7-41d4-9290-14cf7939d8a5",
   "metadata": {},
   "source": [
    "### 6.1 Calculate Inverse Matrix in Numpy"
   ]
  },
  {
   "cell_type": "code",
   "execution_count": 98,
   "id": "1f505340-fb8d-4f67-a993-b1ba4e6c95fb",
   "metadata": {},
   "outputs": [
    {
     "data": {
      "text/plain": [
       "array([[1, 1, 0],\n",
       "       [0, 1, 1],\n",
       "       [1, 1, 1]])"
      ]
     },
     "execution_count": 98,
     "metadata": {},
     "output_type": "execute_result"
    }
   ],
   "source": [
    "#define matrix\n",
    "A = np.array([\n",
    "    [1, 1, 0],\n",
    "    [0, 1, 1],\n",
    "    [1, 1, 1]\n",
    "])\n",
    "\n",
    "A"
   ]
  },
  {
   "cell_type": "code",
   "execution_count": 100,
   "id": "cf2aa8d1-d17a-426a-b1cc-a1eceb566c5c",
   "metadata": {},
   "outputs": [
    {
     "data": {
      "text/plain": [
       "array([[ 0., -1.,  1.],\n",
       "       [ 1.,  1., -1.],\n",
       "       [-1.,  0.,  1.]])"
      ]
     },
     "execution_count": 100,
     "metadata": {},
     "output_type": "execute_result"
    }
   ],
   "source": [
    "A_inv = np.linalg.inv(A)\n",
    "A_inv"
   ]
  },
  {
   "cell_type": "markdown",
   "id": "c25d7c94-642c-4dd8-856e-79e1b18371fe",
   "metadata": {},
   "source": [
    "### 6.2 Characteristics of Inverse Matrix\n",
    "\n",
    "* $A^-1A = AA^-1 = I$"
   ]
  },
  {
   "cell_type": "code",
   "execution_count": 104,
   "id": "11213737-d220-48d8-87ff-f83156e9bc7f",
   "metadata": {},
   "outputs": [
    {
     "data": {
      "text/plain": [
       "array([[1., 0., 0.],\n",
       "       [0., 1., 0.],\n",
       "       [0., 0., 1.]])"
      ]
     },
     "execution_count": 104,
     "metadata": {},
     "output_type": "execute_result"
    }
   ],
   "source": [
    "np.dot(A, A_inv)"
   ]
  },
  {
   "cell_type": "code",
   "execution_count": 103,
   "id": "f82a1961-c3cc-414d-a6a8-ec9d7708cfbe",
   "metadata": {},
   "outputs": [
    {
     "data": {
      "text/plain": [
       "array([[1., 0., 0.],\n",
       "       [0., 1., 0.],\n",
       "       [0., 0., 1.]])"
      ]
     },
     "execution_count": 103,
     "metadata": {},
     "output_type": "execute_result"
    }
   ],
   "source": [
    "np.dot(A_inv, A)"
   ]
  },
  {
   "cell_type": "code",
   "execution_count": null,
   "id": "f33eb3a9-494b-43d1-9694-4fea504c5c4c",
   "metadata": {},
   "outputs": [],
   "source": []
  }
 ],
 "metadata": {
  "kernelspec": {
   "display_name": "Python 3",
   "language": "python",
   "name": "python3"
  },
  "language_info": {
   "codemirror_mode": {
    "name": "ipython",
    "version": 3
   },
   "file_extension": ".py",
   "mimetype": "text/x-python",
   "name": "python",
   "nbconvert_exporter": "python",
   "pygments_lexer": "ipython3",
   "version": "3.8.8"
  }
 },
 "nbformat": 4,
 "nbformat_minor": 5
}
