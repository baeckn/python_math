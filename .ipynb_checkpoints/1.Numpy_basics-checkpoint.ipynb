{
 "cells": [
  {
   "cell_type": "code",
   "execution_count": 1,
   "id": "88c0d334-68d7-4782-84a2-41d1ea9dcc32",
   "metadata": {},
   "outputs": [],
   "source": [
    "import numpy as np\n",
    "import matplotlib.pylab as plt\n",
    "import pandas as pd\n",
    "from sklearn.datasets import load_iris"
   ]
  },
  {
   "cell_type": "markdown",
   "id": "a20a306e-bdab-4db9-aada-07e71d4ea6d0",
   "metadata": {},
   "source": [
    "# 1. Basic Loading and Creations"
   ]
  },
  {
   "cell_type": "code",
   "execution_count": 2,
   "id": "995e0cfa-e8ae-4589-b7bd-4d213ddecc96",
   "metadata": {},
   "outputs": [
    {
     "data": {
      "text/html": [
       "<div>\n",
       "<style scoped>\n",
       "    .dataframe tbody tr th:only-of-type {\n",
       "        vertical-align: middle;\n",
       "    }\n",
       "\n",
       "    .dataframe tbody tr th {\n",
       "        vertical-align: top;\n",
       "    }\n",
       "\n",
       "    .dataframe thead th {\n",
       "        text-align: right;\n",
       "    }\n",
       "</style>\n",
       "<table border=\"1\" class=\"dataframe\">\n",
       "  <thead>\n",
       "    <tr style=\"text-align: right;\">\n",
       "      <th></th>\n",
       "      <th>sepal length (cm)</th>\n",
       "      <th>sepal width (cm)</th>\n",
       "      <th>petal length (cm)</th>\n",
       "      <th>petal width (cm)</th>\n",
       "    </tr>\n",
       "  </thead>\n",
       "  <tbody>\n",
       "    <tr>\n",
       "      <th>0</th>\n",
       "      <td>5.1</td>\n",
       "      <td>3.5</td>\n",
       "      <td>1.4</td>\n",
       "      <td>0.2</td>\n",
       "    </tr>\n",
       "    <tr>\n",
       "      <th>1</th>\n",
       "      <td>4.9</td>\n",
       "      <td>3.0</td>\n",
       "      <td>1.4</td>\n",
       "      <td>0.2</td>\n",
       "    </tr>\n",
       "    <tr>\n",
       "      <th>2</th>\n",
       "      <td>4.7</td>\n",
       "      <td>3.2</td>\n",
       "      <td>1.3</td>\n",
       "      <td>0.2</td>\n",
       "    </tr>\n",
       "    <tr>\n",
       "      <th>3</th>\n",
       "      <td>4.6</td>\n",
       "      <td>3.1</td>\n",
       "      <td>1.5</td>\n",
       "      <td>0.2</td>\n",
       "    </tr>\n",
       "    <tr>\n",
       "      <th>4</th>\n",
       "      <td>5.0</td>\n",
       "      <td>3.6</td>\n",
       "      <td>1.4</td>\n",
       "      <td>0.2</td>\n",
       "    </tr>\n",
       "  </tbody>\n",
       "</table>\n",
       "</div>"
      ],
      "text/plain": [
       "   sepal length (cm)  sepal width (cm)  petal length (cm)  petal width (cm)\n",
       "0                5.1               3.5                1.4               0.2\n",
       "1                4.9               3.0                1.4               0.2\n",
       "2                4.7               3.2                1.3               0.2\n",
       "3                4.6               3.1                1.5               0.2\n",
       "4                5.0               3.6                1.4               0.2"
      ]
     },
     "execution_count": 2,
     "metadata": {},
     "output_type": "execute_result"
    }
   ],
   "source": [
    "#load iris data\n",
    "iris = load_iris()\n",
    "\n",
    "#peek into dataframe\n",
    "df = pd.DataFrame(iris.data, columns = iris.feature_names)\n",
    "df.head()"
   ]
  },
  {
   "cell_type": "markdown",
   "id": "b804c5db-e0dd-4269-8a1c-d344a08c5234",
   "metadata": {},
   "source": [
    "### 1.1. Vectors"
   ]
  },
  {
   "cell_type": "code",
   "execution_count": 7,
   "id": "6d23e6a4-057a-4adb-9aca-7e901fae4cde",
   "metadata": {},
   "outputs": [
    {
     "name": "stdout",
     "output_type": "stream",
     "text": [
      "[5.1 3.5 1.4 0.2]\n",
      "[4.9 3.  1.4 0.2]\n"
     ]
    }
   ],
   "source": [
    "#first record\n",
    "print(iris.data[0, :]) #same as iris.data[0]\n",
    "#second record\n",
    "print(iris.data[1, :]) #same as iris.data[1]"
   ]
  },
  {
   "cell_type": "code",
   "execution_count": 10,
   "id": "97d77368-3cf8-4c77-93b8-3ec76e40108e",
   "metadata": {},
   "outputs": [
    {
     "name": "stdout",
     "output_type": "stream",
     "text": [
      "[[5.1]\n",
      " [3.5]\n",
      " [1.4]\n",
      " [0.2]]\n",
      "======\n",
      "[[5.1]\n",
      " [3.5]\n",
      " [1.4]\n",
      " [0.2]]\n"
     ]
    }
   ],
   "source": [
    "#represent first two records as numpy vectors\n",
    "x1_v1 = np.array([[5.1], [3.5], [1.4], [0.2]])\n",
    "x2_v1 = np.array([[4.9], [3.0], [1.4], [0.2]])\n",
    "\n",
    "#using reshape function\n",
    "x1_v2 = np.reshape(iris.data[0], (4, 1))\n",
    "x2_v2 = np.reshape(iris.data[1], (4, 1))\n",
    "\n",
    "print(x1_v1)\n",
    "print(\"======\")\n",
    "print(x1_v2)"
   ]
  },
  {
   "cell_type": "markdown",
   "id": "2e0768aa-7517-48d9-9f9f-0d0495eb38b8",
   "metadata": {},
   "source": [
    "### 1.2 Matrix"
   ]
  },
  {
   "cell_type": "code",
   "execution_count": 19,
   "id": "39119d40-c71b-453b-9c1a-6bc33594f60f",
   "metadata": {},
   "outputs": [
    {
     "name": "stdout",
     "output_type": "stream",
     "text": [
      "shape: (2, 4)\n",
      "ndim: 2\n",
      "[[5.1 3.5 1.4 0.2]\n",
      " [4.9 3.  1.4 0.2]]\n"
     ]
    }
   ],
   "source": [
    "#create matrix using the first two rows of iris dataset\n",
    "X = np.array([[5.1, 3.5, 1.4, 0.2], [4.9, 3.0, 1.4, 0.2]])\n",
    "print(\"shape: \" + str(X.shape))\n",
    "print(\"ndim: \" + str(X.ndim))\n",
    "print(X)"
   ]
  },
  {
   "cell_type": "markdown",
   "id": "81db681e-546f-4a2e-87cb-920e1848584a",
   "metadata": {},
   "source": [
    "# 2. Matrix Types\n",
    "\n",
    "* Vectors\n",
    "    * Zero vectors\n",
    "    * One vectors\n",
    "* Matrix\n",
    "    * Transpose matrix\n",
    "    * Diagonoal matrix\n",
    "    * Identity matrix\n",
    "    * Symmetric matrix"
   ]
  },
  {
   "cell_type": "markdown",
   "id": "9763c288-9d98-4b74-985a-cec8fff79029",
   "metadata": {},
   "source": [
    "### 2.1 Zero and One Vectors"
   ]
  },
  {
   "cell_type": "code",
   "execution_count": 38,
   "id": "73d0f1dd-c8c9-4141-9995-8b95541d4827",
   "metadata": {},
   "outputs": [
    {
     "name": "stdout",
     "output_type": "stream",
     "text": [
      "zeros : \n",
      "[[0.]\n",
      " [0.]\n",
      " [0.]]\n",
      "====\n",
      "ones : \n",
      "[[1.]\n",
      " [1.]\n",
      " [1.]]\n"
     ]
    }
   ],
   "source": [
    "#zero vector\n",
    "zeros = np.zeros((3, 1))\n",
    "ones = np.ones((3, 1))\n",
    "\n",
    "print(\"zeros : \")\n",
    "print(zeros)\n",
    "print(\"====\")\n",
    "print(\"ones : \")\n",
    "print(ones)"
   ]
  },
  {
   "cell_type": "markdown",
   "id": "57009f68-97b0-4d17-a9b3-754dba8d25dc",
   "metadata": {},
   "source": [
    "### 2.2 Transpose Matrix"
   ]
  },
  {
   "cell_type": "code",
   "execution_count": 27,
   "id": "69028f86-d9ec-4477-8c4b-d861c10dd1f1",
   "metadata": {},
   "outputs": [
    {
     "name": "stdout",
     "output_type": "stream",
     "text": [
      "shape: (3, 2)\n",
      "ndim: 2\n",
      "[[11 21]\n",
      " [12 22]\n",
      " [13 23]]\n"
     ]
    }
   ],
   "source": [
    "#create matrix\n",
    "A = np.array([[11, 21], [12, 22], [13, 23]])\n",
    "print(\"shape: \" + str(A.shape))\n",
    "print(\"ndim: \" + str(A.ndim))\n",
    "print(A)"
   ]
  },
  {
   "cell_type": "code",
   "execution_count": 29,
   "id": "a0f21827-1261-4061-ba6a-b45032aff20d",
   "metadata": {},
   "outputs": [
    {
     "name": "stdout",
     "output_type": "stream",
     "text": [
      "shape: (2, 3)\n",
      "ndim: 2\n",
      "[[11 12 13]\n",
      " [21 22 23]]\n"
     ]
    }
   ],
   "source": [
    "#transpose of matrix A\n",
    "print(\"shape: \" + str(A.T.shape))\n",
    "print(\"ndim: \" + str(A.T.ndim))\n",
    "print(A.T)"
   ]
  },
  {
   "cell_type": "markdown",
   "id": "3517c5c3-196f-4130-b80b-b442897dedf6",
   "metadata": {},
   "source": [
    "* Practice Problems\n",
    "    * Find transpose of matrix X from iris dataset (matrix consisting of the first two rows of the dataset)\n",
    "    * Find transpose of transpose of matrix X\n",
    "        * We get the original matrix X"
   ]
  },
  {
   "cell_type": "code",
   "execution_count": 34,
   "id": "d58735fb-87d4-42d1-b258-c9e2c5f77816",
   "metadata": {},
   "outputs": [
    {
     "name": "stdout",
     "output_type": "stream",
     "text": [
      "transpose X : \n",
      "[[5.1 4.9]\n",
      " [3.5 3. ]\n",
      " [1.4 1.4]\n",
      " [0.2 0.2]]\n"
     ]
    }
   ],
   "source": [
    "#find transpose\n",
    "print(\"transpose X : \")\n",
    "print(X.T)"
   ]
  },
  {
   "cell_type": "code",
   "execution_count": 35,
   "id": "a32448bc-07df-4caa-b724-746064e1a6db",
   "metadata": {},
   "outputs": [
    {
     "name": "stdout",
     "output_type": "stream",
     "text": [
      "transpose of transpose X : \n",
      "[[5.1 3.5 1.4 0.2]\n",
      " [4.9 3.  1.4 0.2]]\n"
     ]
    }
   ],
   "source": [
    "#we get the original matrix X\n",
    "print(\"transpose of transpose X : \")\n",
    "print(X.T.T)"
   ]
  },
  {
   "cell_type": "markdown",
   "id": "82eeb3ab-39d5-4a3d-a44c-f1533a1507c9",
   "metadata": {},
   "source": [
    "### 2.3 Diagonal Matrix\n",
    "\n",
    "* Matrix where off-diagonal entries are all zero"
   ]
  },
  {
   "cell_type": "code",
   "execution_count": 41,
   "id": "09ed7f74-1472-4c71-8537-db52dcfa4929",
   "metadata": {},
   "outputs": [
    {
     "data": {
      "text/plain": [
       "array([[1, 0, 0],\n",
       "       [0, 2, 0],\n",
       "       [0, 0, 3]])"
      ]
     },
     "execution_count": 41,
     "metadata": {},
     "output_type": "execute_result"
    }
   ],
   "source": [
    "diag = np.diag([1, 2, 3])\n",
    "diag"
   ]
  },
  {
   "cell_type": "markdown",
   "id": "40491583-becc-4b23-8a3b-d8a3fe9b2fc1",
   "metadata": {},
   "source": [
    "### 2.4 Identity Matrix\n",
    "\n",
    "* Two functions\n",
    "    * **identity**\n",
    "    * **eye**"
   ]
  },
  {
   "cell_type": "code",
   "execution_count": 42,
   "id": "cccbf521-ee13-45c7-860c-5be18b0dbef5",
   "metadata": {},
   "outputs": [
    {
     "data": {
      "text/plain": [
       "array([[1., 0., 0.],\n",
       "       [0., 1., 0.],\n",
       "       [0., 0., 1.]])"
      ]
     },
     "execution_count": 42,
     "metadata": {},
     "output_type": "execute_result"
    }
   ],
   "source": [
    "np.identity(3)"
   ]
  },
  {
   "cell_type": "code",
   "execution_count": 45,
   "id": "aea7e06f-235a-4337-940d-15683cba205c",
   "metadata": {},
   "outputs": [
    {
     "data": {
      "text/plain": [
       "array([[1., 0., 0., 0.],\n",
       "       [0., 1., 0., 0.],\n",
       "       [0., 0., 1., 0.],\n",
       "       [0., 0., 0., 1.]])"
      ]
     },
     "execution_count": 45,
     "metadata": {},
     "output_type": "execute_result"
    }
   ],
   "source": [
    "np.eye(4)"
   ]
  },
  {
   "cell_type": "markdown",
   "id": "2bb7c367-37f9-4759-9f9f-aed0fb87b298",
   "metadata": {},
   "source": [
    "# 3. Operations\n",
    "\n",
    "* Dot products of vectors and matrices"
   ]
  },
  {
   "cell_type": "code",
   "execution_count": null,
   "id": "62b55388-276a-42d9-8055-675e5aedc5f1",
   "metadata": {},
   "outputs": [],
   "source": []
  }
 ],
 "metadata": {
  "kernelspec": {
   "display_name": "Python 3",
   "language": "python",
   "name": "python3"
  },
  "language_info": {
   "codemirror_mode": {
    "name": "ipython",
    "version": 3
   },
   "file_extension": ".py",
   "mimetype": "text/x-python",
   "name": "python",
   "nbconvert_exporter": "python",
   "pygments_lexer": "ipython3",
   "version": "3.8.8"
  }
 },
 "nbformat": 4,
 "nbformat_minor": 5
}
