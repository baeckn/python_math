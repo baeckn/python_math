{
 "cells": [
  {
   "cell_type": "code",
   "execution_count": 1,
   "id": "88c0d334-68d7-4782-84a2-41d1ea9dcc32",
   "metadata": {},
   "outputs": [],
   "source": [
    "import numpy as np\n",
    "import matplotlib.pylab as plt\n",
    "import pandas as pd\n",
    "from sklearn.datasets import load_iris"
   ]
  },
  {
   "cell_type": "code",
   "execution_count": 2,
   "id": "995e0cfa-e8ae-4589-b7bd-4d213ddecc96",
   "metadata": {},
   "outputs": [
    {
     "data": {
      "text/html": [
       "<div>\n",
       "<style scoped>\n",
       "    .dataframe tbody tr th:only-of-type {\n",
       "        vertical-align: middle;\n",
       "    }\n",
       "\n",
       "    .dataframe tbody tr th {\n",
       "        vertical-align: top;\n",
       "    }\n",
       "\n",
       "    .dataframe thead th {\n",
       "        text-align: right;\n",
       "    }\n",
       "</style>\n",
       "<table border=\"1\" class=\"dataframe\">\n",
       "  <thead>\n",
       "    <tr style=\"text-align: right;\">\n",
       "      <th></th>\n",
       "      <th>sepal length (cm)</th>\n",
       "      <th>sepal width (cm)</th>\n",
       "      <th>petal length (cm)</th>\n",
       "      <th>petal width (cm)</th>\n",
       "    </tr>\n",
       "  </thead>\n",
       "  <tbody>\n",
       "    <tr>\n",
       "      <th>0</th>\n",
       "      <td>5.1</td>\n",
       "      <td>3.5</td>\n",
       "      <td>1.4</td>\n",
       "      <td>0.2</td>\n",
       "    </tr>\n",
       "    <tr>\n",
       "      <th>1</th>\n",
       "      <td>4.9</td>\n",
       "      <td>3.0</td>\n",
       "      <td>1.4</td>\n",
       "      <td>0.2</td>\n",
       "    </tr>\n",
       "    <tr>\n",
       "      <th>2</th>\n",
       "      <td>4.7</td>\n",
       "      <td>3.2</td>\n",
       "      <td>1.3</td>\n",
       "      <td>0.2</td>\n",
       "    </tr>\n",
       "    <tr>\n",
       "      <th>3</th>\n",
       "      <td>4.6</td>\n",
       "      <td>3.1</td>\n",
       "      <td>1.5</td>\n",
       "      <td>0.2</td>\n",
       "    </tr>\n",
       "    <tr>\n",
       "      <th>4</th>\n",
       "      <td>5.0</td>\n",
       "      <td>3.6</td>\n",
       "      <td>1.4</td>\n",
       "      <td>0.2</td>\n",
       "    </tr>\n",
       "  </tbody>\n",
       "</table>\n",
       "</div>"
      ],
      "text/plain": [
       "   sepal length (cm)  sepal width (cm)  petal length (cm)  petal width (cm)\n",
       "0                5.1               3.5                1.4               0.2\n",
       "1                4.9               3.0                1.4               0.2\n",
       "2                4.7               3.2                1.3               0.2\n",
       "3                4.6               3.1                1.5               0.2\n",
       "4                5.0               3.6                1.4               0.2"
      ]
     },
     "execution_count": 2,
     "metadata": {},
     "output_type": "execute_result"
    }
   ],
   "source": [
    "#load iris data\n",
    "iris = load_iris()\n",
    "\n",
    "#peek into dataframe\n",
    "df = pd.DataFrame(iris.data, columns = iris.feature_names)\n",
    "df.head()"
   ]
  },
  {
   "cell_type": "code",
   "execution_count": 3,
   "id": "6d23e6a4-057a-4adb-9aca-7e901fae4cde",
   "metadata": {},
   "outputs": [
    {
     "name": "stdout",
     "output_type": "stream",
     "text": [
      "[5.1 3.5 1.4 0.2]\n",
      "[4.9 3.  1.4 0.2]\n"
     ]
    }
   ],
   "source": [
    "#first two record\n",
    "print(iris.data[0, :])\n",
    "print(iris.data[1, :])\n",
    "#eqivalent to iris.data[0]"
   ]
  },
  {
   "cell_type": "code",
   "execution_count": 4,
   "id": "97d77368-3cf8-4c77-93b8-3ec76e40108e",
   "metadata": {},
   "outputs": [
    {
     "data": {
      "text/plain": [
       "array([[4.9],\n",
       "       [3. ],\n",
       "       [1.4],\n",
       "       [0.2]])"
      ]
     },
     "execution_count": 4,
     "metadata": {},
     "output_type": "execute_result"
    }
   ],
   "source": [
    "#represent first two records as numpy vectors\n",
    "x1 = np.array([[5.1], [3.5], [1.4], [0.2]])\n",
    "x2 = np.array([[4.9], [3.0], [1.4], [0.2]])\n",
    "x2"
   ]
  },
  {
   "cell_type": "code",
   "execution_count": 39,
   "id": "6ee41f3c-9998-4fe7-8828-2d66c6af68ac",
   "metadata": {},
   "outputs": [
    {
     "data": {
      "text/plain": [
       "array([[11, 12, 13],\n",
       "       [21, 22, 23]])"
      ]
     },
     "execution_count": 39,
     "metadata": {},
     "output_type": "execute_result"
    }
   ],
   "source": [
    "A = np.array([[11, 12, 13], [21, 22, 23]])\n",
    "A"
   ]
  },
  {
   "cell_type": "code",
   "execution_count": 40,
   "id": "a68b76cc-7107-46f2-be3d-61679103847b",
   "metadata": {},
   "outputs": [
    {
     "data": {
      "text/plain": [
       "array([[11, 21],\n",
       "       [12, 22],\n",
       "       [13, 23]])"
      ]
     },
     "execution_count": 40,
     "metadata": {},
     "output_type": "execute_result"
    }
   ],
   "source": [
    "A.T"
   ]
  },
  {
   "cell_type": "code",
   "execution_count": 41,
   "id": "8576ba7f-c432-477b-8ba8-1bb0c65b05ca",
   "metadata": {},
   "outputs": [
    {
     "data": {
      "text/plain": [
       "array([[5.1],\n",
       "       [3.5],\n",
       "       [1.4],\n",
       "       [0.2]])"
      ]
     },
     "execution_count": 41,
     "metadata": {},
     "output_type": "execute_result"
    }
   ],
   "source": [
    "x1"
   ]
  },
  {
   "cell_type": "code",
   "execution_count": 42,
   "id": "5ce01c3a-b262-4905-b1c9-57429020c5fa",
   "metadata": {},
   "outputs": [
    {
     "data": {
      "text/plain": [
       "array([[5.1, 3.5, 1.4, 0.2]])"
      ]
     },
     "execution_count": 42,
     "metadata": {},
     "output_type": "execute_result"
    }
   ],
   "source": [
    "x1.T"
   ]
  },
  {
   "cell_type": "code",
   "execution_count": 45,
   "id": "daee0f45-1e7b-48fd-9470-1b5d3c85e2d7",
   "metadata": {},
   "outputs": [
    {
     "data": {
      "text/plain": [
       "array([5, 3, 1, 0])"
      ]
     },
     "execution_count": 45,
     "metadata": {},
     "output_type": "execute_result"
    }
   ],
   "source": [
    "x_one = np.array([5, 3, 1, 0])\n",
    "x_one"
   ]
  },
  {
   "cell_type": "code",
   "execution_count": 46,
   "id": "d22f51e3-eac3-404c-b863-02736aaab1b5",
   "metadata": {},
   "outputs": [
    {
     "data": {
      "text/plain": [
       "array([5, 3, 1, 0])"
      ]
     },
     "execution_count": 46,
     "metadata": {},
     "output_type": "execute_result"
    }
   ],
   "source": [
    "x_one.T"
   ]
  },
  {
   "cell_type": "code",
   "execution_count": 48,
   "id": "24877101-f60d-40a6-af25-5114e915586f",
   "metadata": {},
   "outputs": [
    {
     "name": "stdout",
     "output_type": "stream",
     "text": [
      "[[100]\n",
      " [ 80]\n",
      " [ 50]]\n",
      "(3, 1)\n",
      "2\n"
     ]
    }
   ],
   "source": [
    "p = np.array([[100], [80], [50]])\n",
    "print(p)\n",
    "print(p.shape)\n",
    "print(p.ndim)"
   ]
  },
  {
   "cell_type": "code",
   "execution_count": 49,
   "id": "e70bf5ad-d8ae-4789-a54d-87d32c9bbc93",
   "metadata": {},
   "outputs": [
    {
     "name": "stdout",
     "output_type": "stream",
     "text": [
      "[[3]\n",
      " [4]\n",
      " [5]]\n",
      "(3, 1)\n",
      "2\n"
     ]
    }
   ],
   "source": [
    "n = np.array([[3], [4], [5]])\n",
    "print(n)\n",
    "print(n.shape)\n",
    "print(n.ndim)"
   ]
  },
  {
   "cell_type": "code",
   "execution_count": 50,
   "id": "6f43c621-3b96-4ffd-857f-5ec48fed85f5",
   "metadata": {},
   "outputs": [
    {
     "data": {
      "text/plain": [
       "array([[870]])"
      ]
     },
     "execution_count": 50,
     "metadata": {},
     "output_type": "execute_result"
    }
   ],
   "source": [
    "np.dot(p.T, n)"
   ]
  },
  {
   "cell_type": "code",
   "execution_count": null,
   "id": "bb6a372f-e010-4b96-b9fa-9a295b9b8121",
   "metadata": {},
   "outputs": [],
   "source": []
  }
 ],
 "metadata": {
  "kernelspec": {
   "display_name": "Python 3",
   "language": "python",
   "name": "python3"
  },
  "language_info": {
   "codemirror_mode": {
    "name": "ipython",
    "version": 3
   },
   "file_extension": ".py",
   "mimetype": "text/x-python",
   "name": "python",
   "nbconvert_exporter": "python",
   "pygments_lexer": "ipython3",
   "version": "3.8.8"
  }
 },
 "nbformat": 4,
 "nbformat_minor": 5
}
