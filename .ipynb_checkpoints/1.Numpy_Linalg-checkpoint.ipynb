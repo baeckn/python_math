{
 "cells": [
  {
   "cell_type": "code",
   "execution_count": 1,
   "id": "469ca828-93bd-44b6-b933-07c979cdfd4f",
   "metadata": {},
   "outputs": [],
   "source": [
    "import numpy as np\n",
    "import pandas as pd"
   ]
  },
  {
   "cell_type": "markdown",
   "id": "44d58940-4683-4c42-a3f9-00cc5e121168",
   "metadata": {},
   "source": [
    "# 1. Linear Algebra Using Numpy\n",
    "\n",
    "* 형(row)과 열(column)\n",
    "* Numpy에서 벡터(vector)와 행렬(matrix) 표현 방법\n",
    "    * 벡터(vector): 1D array\n",
    "    * 행렬(matrix): 2D array"
   ]
  },
  {
   "cell_type": "markdown",
   "id": "5a846160-a1c4-4c6d-aace-5648221c06a2",
   "metadata": {},
   "source": [
    "### 1.1 Create Array and Matrix"
   ]
  },
  {
   "cell_type": "code",
   "execution_count": 89,
   "id": "1a1812ad-bb22-44a4-9975-67b7ff5200e1",
   "metadata": {},
   "outputs": [
    {
     "name": "stdout",
     "output_type": "stream",
     "text": [
      "shape: (3,)\n",
      "size: 3\n",
      "ndim: 1\n",
      "dtype: int64\n",
      "[7 5 3]\n"
     ]
    }
   ],
   "source": [
    "#vector representation in Numpy\n",
    "b = np.array([7, 5, 3])\n",
    "print(\"shape: \" + str(b.shape)) #result: (nrow, ncol)\n",
    "print(\"size: \" + str(b.size))\n",
    "print(\"ndim: \" + str(b.ndim))\n",
    "print(\"dtype: \" + str(b.dtype))\n",
    "print(b)"
   ]
  },
  {
   "cell_type": "code",
   "execution_count": 90,
   "id": "ff1ee6c1-6881-4bca-9e70-d1c094d4493f",
   "metadata": {},
   "outputs": [
    {
     "name": "stdout",
     "output_type": "stream",
     "text": [
      "shape: (3, 3)\n",
      "size: 9\n",
      "ndim: 2\n",
      "dtype: float64\n",
      "[[ 1.   2.5  3. ]\n",
      " [-1.  -2.  -1.5]\n",
      " [ 4.   5.5  6. ]]\n"
     ]
    }
   ],
   "source": [
    "#matrix representation in Numpy\n",
    "a = np.array([[1, 2.5, 3], [-1, -2, -1.5], [4, 5.5, 6]])\n",
    "print(\"shape: \" + str(a.shape)) #result: (nrow, ncol)\n",
    "print(\"size: \" + str(a.size))\n",
    "print(\"ndim: \" + str(a.ndim))\n",
    "print(\"dtype: \" + str(a.dtype))\n",
    "print(a)"
   ]
  },
  {
   "cell_type": "markdown",
   "id": "5bdbf5ff-64e7-4a81-aea6-115934b0ca85",
   "metadata": {},
   "source": [
    "### 1.2 Accessing matrix elements\n",
    "\n",
    "$a = \\begin{bmatrix} 1 & 2.5 & 3 \\\\ -1 & -2 & -1.5 \\\\ 4 & 5.5 & 6 \\end{bmatrix}$\n",
    "\n",
    "* In Python, matrix element index are as below\n",
    "\n",
    "$\\begin{bmatrix} a[0, 0] & a[0, 1] & a[0, 2] \\\\ a[1, 0] & a[1, 1] & a[1, 2] \\\\ a[2, 0] & a[2, 1] & a[2, 2] \\end{bmatrix}$"
   ]
  },
  {
   "cell_type": "code",
   "execution_count": 91,
   "id": "55abaa86-d14a-4a18-9c68-6767387bc4e2",
   "metadata": {},
   "outputs": [
    {
     "data": {
      "text/plain": [
       "2.5"
      ]
     },
     "execution_count": 91,
     "metadata": {},
     "output_type": "execute_result"
    }
   ],
   "source": [
    "#access element\n",
    "a[0, 1] #same as a[0][1]"
   ]
  },
  {
   "cell_type": "markdown",
   "id": "4148d058-e030-459e-b31c-54cde61011d8",
   "metadata": {},
   "source": [
    "### 1.3 Special Matrix\n",
    "\n",
    "* Identity matrices\n",
    "    * Can be created using either **eye** or **identity** function\n",
    "    * By default, **identity** only creates square matrices\n",
    "    * On the other hand, **eye** can create both square and non-square matrices\n",
    "* Zeros\n",
    "    * Matrix whose elements all have zero values\n",
    "* Ones\n",
    "    * Matrix whose elements all have values equal to 1\n",
    "* Full\n",
    "    * Matrix whose elements all have the same designated values"
   ]
  },
  {
   "cell_type": "code",
   "execution_count": 92,
   "id": "6572ddde-fa04-40fd-b47d-b7fcb3498148",
   "metadata": {},
   "outputs": [
    {
     "data": {
      "text/plain": [
       "array([[1., 0., 0.],\n",
       "       [0., 1., 0.],\n",
       "       [0., 0., 1.]])"
      ]
     },
     "execution_count": 92,
     "metadata": {},
     "output_type": "execute_result"
    }
   ],
   "source": [
    "#create a 3x3 identity matrix using identity function\n",
    "np.identity(3)"
   ]
  },
  {
   "cell_type": "code",
   "execution_count": 93,
   "id": "63d75063-cb0c-49ac-beda-381589c7f9dc",
   "metadata": {},
   "outputs": [
    {
     "data": {
      "text/plain": [
       "array([[1., 0., 0.],\n",
       "       [0., 1., 0.],\n",
       "       [0., 0., 1.]])"
      ]
     },
     "execution_count": 93,
     "metadata": {},
     "output_type": "execute_result"
    }
   ],
   "source": [
    "#create a 3x3 identity matrix using eye function\n",
    "#if you omit ncol argument, it is automatically filled equivalent to nrow value\n",
    "#np.eye(3)\n",
    "np.eye(3, 3, k=0)"
   ]
  },
  {
   "cell_type": "code",
   "execution_count": 94,
   "id": "7806a464-060d-43ae-94c3-79ce8ec7e001",
   "metadata": {},
   "outputs": [
    {
     "data": {
      "text/plain": [
       "array([[0., 0., 0.],\n",
       "       [0., 0., 0.]])"
      ]
     },
     "execution_count": 94,
     "metadata": {},
     "output_type": "execute_result"
    }
   ],
   "source": [
    "#zero matrix\n",
    "np.zeros((2, 3))"
   ]
  },
  {
   "cell_type": "code",
   "execution_count": 95,
   "id": "18759805-7ac6-4650-8e16-ddff17b10b81",
   "metadata": {},
   "outputs": [
    {
     "data": {
      "text/plain": [
       "array([[1., 1., 1.],\n",
       "       [1., 1., 1.]])"
      ]
     },
     "execution_count": 95,
     "metadata": {},
     "output_type": "execute_result"
    }
   ],
   "source": [
    "#ones matrix\n",
    "np.ones((2, 3))"
   ]
  },
  {
   "cell_type": "code",
   "execution_count": 96,
   "id": "95be9169-0033-4c0f-a453-2bc0f739d856",
   "metadata": {},
   "outputs": [
    {
     "data": {
      "text/plain": [
       "array([[10, 10, 10],\n",
       "       [10, 10, 10]])"
      ]
     },
     "execution_count": 96,
     "metadata": {},
     "output_type": "execute_result"
    }
   ],
   "source": [
    "#full matrix\n",
    "np.full((2, 3), 10)"
   ]
  },
  {
   "cell_type": "code",
   "execution_count": 97,
   "id": "0f30c67d-11d5-446c-ab22-0db8769ed143",
   "metadata": {},
   "outputs": [
    {
     "data": {
      "text/plain": [
       "array([[ 1. ,  2.5,  3. ],\n",
       "       [-1. , -2. , -1.5],\n",
       "       [ 4. ,  5.5,  6. ]])"
      ]
     },
     "execution_count": 97,
     "metadata": {},
     "output_type": "execute_result"
    }
   ],
   "source": [
    "a"
   ]
  },
  {
   "cell_type": "markdown",
   "id": "ccf1ca42-9a86-4f94-b602-14e3cc6a700c",
   "metadata": {},
   "source": [
    "### 1.4 Reshaping Ndarray Objects"
   ]
  },
  {
   "cell_type": "code",
   "execution_count": 98,
   "id": "7d6796ec-85e2-41b2-98f2-76825f9c1517",
   "metadata": {},
   "outputs": [
    {
     "data": {
      "text/plain": [
       "array([[ 1. ,  2.5,  3. ],\n",
       "       [-1. , -2. , -1.5]])"
      ]
     },
     "execution_count": 98,
     "metadata": {},
     "output_type": "execute_result"
    }
   ],
   "source": [
    "c = np.array([[1, 2.5, 3], [-1, -2, -1.5]])\n",
    "c"
   ]
  },
  {
   "cell_type": "code",
   "execution_count": 99,
   "id": "ce361d14-d9f3-4827-a9d4-c0acdea14b27",
   "metadata": {},
   "outputs": [
    {
     "name": "stdout",
     "output_type": "stream",
     "text": [
      "shape: (2, 3)\n",
      "size: 6\n",
      "ndim: 2\n",
      "dtype: float64\n",
      "[[ 1.   2.5  3. ]\n",
      " [-1.  -2.  -1.5]\n",
      " [ 4.   5.5  6. ]]\n"
     ]
    }
   ],
   "source": [
    "c_v1 = np.reshape(c, (2, 3))\n",
    "print(\"shape: \" + str(c_v1.shape)) #result: (nrow, ncol)\n",
    "print(\"size: \" + str(c_v1.size))\n",
    "print(\"ndim: \" + str(c_v1.ndim))\n",
    "print(\"dtype: \" + str(c_v1.dtype))\n",
    "print(a)"
   ]
  },
  {
   "cell_type": "markdown",
   "id": "ae72b9b1-7cdf-454a-a468-6a224eb45252",
   "metadata": {},
   "source": [
    "### 1.5 Diagnol\n",
    "\n",
    "* Given a matrix, you can extract the diagnol using **np.diag**\n",
    "* The ouput is a 1D ndarray"
   ]
  },
  {
   "cell_type": "code",
   "execution_count": 100,
   "id": "8282e60a-fb2f-4f8b-8e55-76543db9673a",
   "metadata": {},
   "outputs": [
    {
     "data": {
      "text/plain": [
       "array([[1, 2, 3],\n",
       "       [4, 5, 6],\n",
       "       [7, 8, 9]])"
      ]
     },
     "execution_count": 100,
     "metadata": {},
     "output_type": "execute_result"
    }
   ],
   "source": [
    "#create a matrix\n",
    "a = np.array([[1, 2, 3], [4, 5, 6], [7, 8, 9]])\n",
    "a"
   ]
  },
  {
   "cell_type": "code",
   "execution_count": 101,
   "id": "8bec99f3-4e52-4f41-9569-6dceb085d060",
   "metadata": {},
   "outputs": [
    {
     "data": {
      "text/plain": [
       "array([1, 5, 9])"
      ]
     },
     "execution_count": 101,
     "metadata": {},
     "output_type": "execute_result"
    }
   ],
   "source": [
    "#extract diagonal: note that you can set the band \n",
    "np.diag(a, k=0)"
   ]
  },
  {
   "cell_type": "markdown",
   "id": "daf05931-d03f-4c79-9c72-69619a82a423",
   "metadata": {},
   "source": [
    "### 1.6 Trace\n",
    "\n",
    "* Returns the sum of the diagonal"
   ]
  },
  {
   "cell_type": "code",
   "execution_count": 102,
   "id": "b965d2aa-71a8-463d-869a-f2daadf6132c",
   "metadata": {},
   "outputs": [
    {
     "data": {
      "text/plain": [
       "array([[1, 2, 3],\n",
       "       [4, 5, 6],\n",
       "       [7, 8, 9]])"
      ]
     },
     "execution_count": 102,
     "metadata": {},
     "output_type": "execute_result"
    }
   ],
   "source": [
    "#matrix\n",
    "a"
   ]
  },
  {
   "cell_type": "code",
   "execution_count": 103,
   "id": "c6a23c47-64a3-46c2-9630-b0bbdd5b29fd",
   "metadata": {},
   "outputs": [
    {
     "name": "stdout",
     "output_type": "stream",
     "text": [
      "15\n",
      "8\n",
      "12\n"
     ]
    }
   ],
   "source": [
    "#you can assign which diagonal to calculate the trace of: default is always zero\n",
    "print(np.trace(a))\n",
    "print(np.trace(a, offset = 1))\n",
    "print(np.trace(a, offset = -1))"
   ]
  },
  {
   "cell_type": "markdown",
   "id": "9b6aee2c-f23c-44cb-a1e3-7e985da48436",
   "metadata": {},
   "source": [
    "### 1.7 Flatten & Ravel\n",
    "\n",
    "* Both flatten any N-dimensional matrix into a 1D array\n",
    "* Difference is that assigning the result of the **ravel()** function to a variable refer to the same memory address as the original array\n",
    "    * A change in any of the original and the returned variable affects the other likewise"
   ]
  },
  {
   "cell_type": "code",
   "execution_count": 104,
   "id": "609bcdcf-b083-451e-8238-3ff0fa348e55",
   "metadata": {},
   "outputs": [
    {
     "data": {
      "text/plain": [
       "array([[1, 2, 3],\n",
       "       [4, 5, 6],\n",
       "       [7, 8, 9]])"
      ]
     },
     "execution_count": 104,
     "metadata": {},
     "output_type": "execute_result"
    }
   ],
   "source": [
    "#matrix\n",
    "a"
   ]
  },
  {
   "cell_type": "code",
   "execution_count": 105,
   "id": "f29aef8b-cefb-41f6-b4b1-25fc014c9825",
   "metadata": {},
   "outputs": [
    {
     "name": "stdout",
     "output_type": "stream",
     "text": [
      "shape: (9,)\n",
      "size: 9\n",
      "ndim: 1\n",
      "dtype: int64\n",
      "[1 2 3 4 5 6 7 8 9]\n"
     ]
    }
   ],
   "source": [
    "#flatten\n",
    "a_flat = a.flatten()\n",
    "print(\"shape: \" + str(a_flat.shape)) #result: (nrow, ncol)\n",
    "print(\"size: \" + str(a_flat.size))\n",
    "print(\"ndim: \" + str(a_flat.ndim))\n",
    "print(\"dtype: \" + str(a_flat.dtype))\n",
    "print(a_flat)"
   ]
  },
  {
   "cell_type": "markdown",
   "id": "007de803-4de0-4e45-aaf8-8b85f9631b07",
   "metadata": {},
   "source": [
    "### 1.8 vstack & hstack\n",
    "\n",
    "* Different syntax when stacking by vectors, matrices, or a combination of both"
   ]
  },
  {
   "cell_type": "markdown",
   "id": "8fb1ad91-9af3-43fb-9747-0d0cf7680f4e",
   "metadata": {},
   "source": [
    "#### 1.8.1 Stacking Matrices\n",
    "\n",
    "* Same syntax in both hstack and vstack where a, b, c are matrices\n",
    "    * `new_mat = np.hstack((a, b, c))`\n",
    "        * Number of rows of the matrices have to be the same\n",
    "    * `new_mat = np.vstack((a, b, c))`\n",
    "        * Number of columns of the matrices have to be the same"
   ]
  },
  {
   "cell_type": "markdown",
   "id": "069345d0-4f8e-4878-99b4-221d026201c1",
   "metadata": {},
   "source": [
    "* In this case, only **hstack** is possible"
   ]
  },
  {
   "cell_type": "code",
   "execution_count": 107,
   "id": "2821dff5-4868-48cd-a379-8674228eab61",
   "metadata": {},
   "outputs": [
    {
     "name": "stdout",
     "output_type": "stream",
     "text": [
      "[[1 2 3]\n",
      " [4 5 6]]\n",
      "[[-1 -2]\n",
      " [-3 -4]]\n"
     ]
    }
   ],
   "source": [
    "#create matrix\n",
    "a = np.array([[1, 2, 3], [4, 5, 6]])\n",
    "b = np.array([[-1, -2], [-3, -4]])\n",
    "\n",
    "print(a)\n",
    "print(b)"
   ]
  },
  {
   "cell_type": "code",
   "execution_count": 109,
   "id": "22cd589c-9ea9-4aa4-8c69-afc1612447ce",
   "metadata": {},
   "outputs": [
    {
     "data": {
      "text/plain": [
       "array([[ 1,  2,  3, -1, -2],\n",
       "       [ 4,  5,  6, -3, -4]])"
      ]
     },
     "execution_count": 109,
     "metadata": {},
     "output_type": "execute_result"
    }
   ],
   "source": [
    "#perform hstack\n",
    "np.hstack((a, b))"
   ]
  },
  {
   "cell_type": "markdown",
   "id": "81a2f034-26ab-414a-84ab-3c1027d8ae27",
   "metadata": {},
   "source": [
    "* In this case, only **vstack** is possible"
   ]
  },
  {
   "cell_type": "code",
   "execution_count": 110,
   "id": "92ddb947-d865-4758-8fe5-570860b11be3",
   "metadata": {},
   "outputs": [
    {
     "name": "stdout",
     "output_type": "stream",
     "text": [
      "[[1 2 3]\n",
      " [4 5 6]]\n",
      "[[-1 -2 -3]\n",
      " [-4 -5 -6]\n",
      " [-7 -8 -9]]\n"
     ]
    }
   ],
   "source": [
    "#define matrix\n",
    "c = np.array([[1, 2, 3], [4, 5, 6]])\n",
    "d = np.array([[-1, -2, -3], [-4, -5, -6], [-7, -8, -9]])\n",
    "\n",
    "print(c)\n",
    "print(d)"
   ]
  },
  {
   "cell_type": "code",
   "execution_count": 111,
   "id": "82e3c585-89ac-4a58-b364-249270f0bdac",
   "metadata": {},
   "outputs": [
    {
     "data": {
      "text/plain": [
       "array([[ 1,  2,  3],\n",
       "       [ 4,  5,  6],\n",
       "       [-1, -2, -3],\n",
       "       [-4, -5, -6],\n",
       "       [-7, -8, -9]])"
      ]
     },
     "execution_count": 111,
     "metadata": {},
     "output_type": "execute_result"
    }
   ],
   "source": [
    "np.vstack((c, d))"
   ]
  },
  {
   "cell_type": "markdown",
   "id": "a18eb5df-5c70-4df1-8d23-3ea6124ec422",
   "metadata": {},
   "source": [
    "#### 1.8.2 Stacking Vectors\n",
    "\n",
    "* Same syntax in both hstack and vstack where a, b, c are vectors\n",
    "    * `x = np.hstack((a, b, c))`\n",
    "        * Result is a vector\n",
    "    * `x = np.vstack((a, b, c))`\n",
    "        * Result is a matrix where each row corresponds to input vectors"
   ]
  },
  {
   "cell_type": "code",
   "execution_count": 112,
   "id": "a10ef10b-23b8-475f-b774-ccce78df5cac",
   "metadata": {},
   "outputs": [],
   "source": [
    "#define vectors\n",
    "e = np.array([1, 2, 3])\n",
    "f = np.array([4, 5, 6])"
   ]
  },
  {
   "cell_type": "code",
   "execution_count": 117,
   "id": "30817986-3fcf-4afb-8742-3f9237f53ded",
   "metadata": {},
   "outputs": [
    {
     "data": {
      "text/plain": [
       "array([1, 2, 3, 4, 5, 6])"
      ]
     },
     "execution_count": 117,
     "metadata": {},
     "output_type": "execute_result"
    }
   ],
   "source": [
    "#hstack\n",
    "np.hstack((e, f))"
   ]
  },
  {
   "cell_type": "code",
   "execution_count": 116,
   "id": "70f71bf1-d8fa-4348-9dae-90e0b5c8dedb",
   "metadata": {},
   "outputs": [
    {
     "data": {
      "text/plain": [
       "array([[1, 2, 3],\n",
       "       [4, 5, 6]])"
      ]
     },
     "execution_count": 116,
     "metadata": {},
     "output_type": "execute_result"
    }
   ],
   "source": [
    "#vstack\n",
    "np.vstack((e, f))"
   ]
  },
  {
   "cell_type": "markdown",
   "id": "4c1718d5-d48f-43e6-b766-b7dffb0196f3",
   "metadata": {},
   "source": [
    "#### 1.8.3 Stacking Combination of Matrix and Vector\n",
    "\n",
    "* Only **vstack** is allowed, and this can be considered adding an additional row to a matrix\n",
    "    * Therefore, the number of columns must be the same\n",
    "* **hstack** is not allowed"
   ]
  },
  {
   "cell_type": "code",
   "execution_count": 118,
   "id": "3866f817-e375-47c8-8b5b-8e3f2bcac41b",
   "metadata": {},
   "outputs": [
    {
     "name": "stdout",
     "output_type": "stream",
     "text": [
      "[[1 2 3]\n",
      " [4 5 6]]\n",
      "[7 8 9]\n"
     ]
    }
   ],
   "source": [
    "g = np.array([[1, 2, 3], [4, 5, 6]])\n",
    "h = np.array([7, 8, 9])\n",
    "\n",
    "print(g)\n",
    "print(h)"
   ]
  },
  {
   "cell_type": "code",
   "execution_count": null,
   "id": "4d8d7a6c-b693-45bb-9a6a-edc50fa58a3e",
   "metadata": {},
   "outputs": [],
   "source": [
    "#"
   ]
  }
 ],
 "metadata": {
  "kernelspec": {
   "display_name": "Python 3",
   "language": "python",
   "name": "python3"
  },
  "language_info": {
   "codemirror_mode": {
    "name": "ipython",
    "version": 3
   },
   "file_extension": ".py",
   "mimetype": "text/x-python",
   "name": "python",
   "nbconvert_exporter": "python",
   "pygments_lexer": "ipython3",
   "version": "3.8.8"
  }
 },
 "nbformat": 4,
 "nbformat_minor": 5
}
